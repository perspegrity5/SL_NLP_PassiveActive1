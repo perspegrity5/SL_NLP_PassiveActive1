{
 "cells": [
  {
   "cell_type": "markdown",
   "metadata": {},
   "source": [
    "## Jupyter Notebook space for Passive Active NLP StageLens project"
   ]
  },
  {
   "cell_type": "markdown",
   "metadata": {},
   "source": [
    "General module loading"
   ]
  },
  {
   "cell_type": "code",
   "execution_count": 1,
   "metadata": {},
   "outputs": [
    {
     "name": "stdout",
     "output_type": "stream",
     "text": [
      "Python 3.6.3\n",
      "Collecting https://github.com/explosion/spacy-models/releases/download/en_core_web_md-2.0.0/en_core_web_md-2.0.0.tar.gz\n",
      "  Downloading https://github.com/explosion/spacy-models/releases/download/en_core_web_md-2.0.0/en_core_web_md-2.0.0.tar.gz (120.8MB)\n",
      "\u001b[K    100% |████████████████████████████████| 120.9MB 13.8MB/s ta 0:00:01   18% |█████▊                          | 21.8MB 41.1MB/s eta 0:00:03    19% |██████▎                         | 23.7MB 9.0MB/s eta 0:00:11    41% |█████████████▎                  | 50.1MB 42.6MB/s eta 0:00:02    55% |█████████████████▉              | 67.2MB 29.2MB/s eta 0:00:02    71% |███████████████████████         | 86.8MB 45.4MB/s eta 0:00:01    93% |██████████████████████████████  | 112.9MB 10.2MB/s eta 0:00:01\n",
      "\u001b[?25hInstalling collected packages: en-core-web-md\n",
      "  Running setup.py install for en-core-web-md ... \u001b[?25ldone\n",
      "\u001b[?25hSuccessfully installed en-core-web-md-2.0.0\n",
      "\n",
      "\u001b[93m    Linking successful\u001b[0m\n",
      "    /srv/venv/lib/python3.6/site-packages/en_core_web_md -->\n",
      "    /srv/venv/lib/python3.6/site-packages/spacy/data/en_core_web_md\n",
      "\n",
      "    You can now load the model via spacy.load('en_core_web_md')\n",
      "\n",
      "Downloaded\n"
     ]
    }
   ],
   "source": [
    "!python --version\n",
    "!python -m spacy download en_core_web_md\n",
    "\n",
    "print(\"Downloaded\")"
   ]
  },
  {
   "cell_type": "code",
   "execution_count": 2,
   "metadata": {},
   "outputs": [
    {
     "name": "stdout",
     "output_type": "stream",
     "text": [
      "Loaded models\n"
     ]
    }
   ],
   "source": [
    "import spacy\n",
    "import html\n",
    "from spacy import displacy\n",
    "import re\n",
    "PATTERN = \"[^a-zA-Z0-9_\\s\\.']+\"\n",
    "rgx = re.compile(PATTERN, re.IGNORECASE)\n",
    "\n",
    "nlp = spacy.load('en_core_web_md')\n",
    "print(\"Loaded models\")"
   ]
  },
  {
   "cell_type": "markdown",
   "metadata": {},
   "source": [
    "Preprocessing input text"
   ]
  },
  {
   "cell_type": "code",
   "execution_count": 18,
   "metadata": {},
   "outputs": [],
   "source": [
    "tsv = \"\"\"Sometimes I wish that\tmy mom would come home more often.\t|1| my mom |2| would come home more often.\n",
    "My family\thas a cat...I don't have a cat though I have 2 dogs\t|1| has a cat...|2| I don't have a cat |3| though I have 2 dogs\n",
    "When I am nervous\tmy hands get shaky\t|1| my hands |2| get shaky\n",
    "At times I worry about\tmy own dreams, nightmares I have thousands of them\t|1| my own dreams, nightmares |2| I have thousands of them\n",
    "Technology\tit's crazy and i wish i could keep up\t|1| its crazy and |2| i wish |3| i could keep up\n",
    "When I get mad\tI sometimes use big voice then I go somewhere quiet so I can cry by myself.\t|1| I sometimes use big voice |2| then I go somewhere quiet |3| so I can cry by myself.\n",
    "My main problem is\ta feeling that I am not entitled\t|1| a feeling |2| that I am not entitled\n",
    "If my mother\twas a different lady, I would not be who I am.\t|1| was a different lady, |2| I would not be who I am.\n",
    "When I get mad\tit takes a long time to build up, but I am slow to forgive.\t|1| it takes a long time to build up, |2| but I am slow to forgive.\n",
    "When they avoided me\tI felt safe, knowing that I could receive a warm welcome from my family and friends.\t|1| I felt safe, |2| knowing |3| that I could receive a warm welcome |4| from my family and friends.\n",
    "Sometimes I wish that\tI could be younger and have done things differently.\t|1| I could be younger |2| and have done things differently.\n",
    "When they avoided me\tI sought to find out 'why?' . Knowing the 'why' can begin Awareness and Healing\t|1| I sought |2| to find out 'why?' . |3| Knowing the 'why' |4| can begin Awareness and Healing\n",
    "Being with other people\tis both a learning experience and an opportunity to exchange views.\t|1| is both a learning experience and an opportunity |2| to exchange views.\n",
    "My main problem is\tonly a main problem if I think it is.\t|1| only a main problem |2| if I think |3| it is.\n",
    "When people are helpless\tAt times I try to find other ways of doing thing. But sometime I might be disappointed and stop or quit.\t|1| At times I try |2| to find other ways |3| of doing thing. |4| But sometime I might be disappointed |5| and stop |6| or quit.\n",
    "My father\ttaught me how to think critically and to love deeply.\t|1| taught me |2| how to think critically |3| and to love deeply.\n",
    "If I can\\'t get what I want\tI try to work out another way of getting what I want\t|1| I try |2| to work out another way |3| of getting |4| what I want\n",
    "When they avoided me\thmmm... I\\'m stumped. I have no idea how to respond to this... Although there is a sense of relief...\t|1| hmmm... I'm stumped. |2| I have no idea |3| how to respond to this...|4| Although there is a sense of relief...\n",
    "Loving other people\tcan deepen with familiarity. Even with those who aren't a natural fit the differences between us can add color to the world as well as an opportunity to turn inward to see what is being triggered. Having said that, it's difficult for me to open my heart and trust.\t|1| can deepen with familiarity. |2| Even with those who aren't a natural fit |3| the differences between us can add color to the world |4| as well as an opportunity to turn inward |5| to see |6| what is being triggered. |7| Having said that, |8| it's difficult for me |9| to open |10| my heart |11| and trust.\n",
    "When people are helpless\tI am inspired to reach out and be of service.\t|1| I am inspired |2| to reach out |3| and be of service.\n",
    "Rules\tare guard rails. It is good and helpful to have them. When you head in the right direction you never get in touch with them, no matter how fast or slow you travel. Good rules are not in your way.\t|1| are guard rails. |2| It is good and helpful |3| to have them. |4| When you head in the right direction |5| you never get in touch with them, |6| no matter how fast or slow you travel. |7| Good rules are not in |8| your way.\n",
    "Technology\tis a great tool, nice to have and can bring global humanity closer together in ways never before imagined. But if it were to disappear tomorrow, I'm of the generation that would be able to survive.\t|1| is a great tool, |2| nice to have |3| and can bring global humanity closer together |4| in ways never before imagined. |5| But if it were |6| to disappear tomorrow, |7| I'm of the generation |8| that would be able |9| to survive.\n",
    "A good boss\tA good boss is critical toward making a workplace environment healthy and successful!\t|1| A good boss is critical |2| toward making a workplace environment healthy and successful!\n",
    "My main problem is\tgetting over decades spent proving myself.\t|1| getting over |2| decades spent proving myself.\n",
    "I feel sorry\tfor the pain that all humans and all beings on this earth must endure as part of the experience of being here.\t|1| for the pain |2| that all humans and all beings on this earth must endure |3| as part of the experience of being here.\n",
    "If I were in charge\ti would change that by facilitating change that made everyone in charge ... to the degree of their capabilities in wordly matters, but always in charge of their interior and their right to decide for themselves what is real and true for them.\t|1| i would change that |2| by facilitating change |3| that made everyone in charge ...|4| to the degree of their capabilities in wordly matters,|5| but always in charge |6| of their interior and |7| their right |8| to decide for themselves |9| what is real and true for them.\n",
    "At times I worry about\tbig, big existential questions, and little microscopic ones... sometimes within milliseconds of one another.\t|1| big, big existential questions, and little microscopic ones...|2| sometimes within milliseconds of one another.\n",
    "Raising a family\tis a profound gift. I am tending the future. I am tending the life processes. It is a place for love and life and evolution to soar.\t|1| is a profound gift. |2| I am tending the future. |3| I am tending the life processes. |4| It is a place for love and life and evolution |5| to soar.\n",
    "At times I worry about\thow differently I see and process things from many of the people I encounter, and whether I am wisely acting and interacting.\t|1| how differently I see |2| and process things |3| from many of the people I encounter, |4| and whether I am wisely acting |5| and interacting.\n",
    "What I like to do best is\tbe a conduit. There is no I.\t|1| be a conduit. |2| There is no I.\n",
    "Being with other people\tcan be an isolating or a hugely enriching experience, the latter when each others presence liberates emergent thoughts or self expressions bringing forth a collective that is more than the sum of its parts\t|1| can be an isolating or a hugely enriching experience, |1| the latter when each others presence liberates emergent thoughts or self expressions |3| bringing forth a collective |4| that is more than the sum of its parts\n",
    "A teacher has the right to\tI don't mean to be oppositional. . but this sentence stem. . .like so many others. . isn't one I can really answer outside of context. Rights. This is a wobbly construct. I'm sorry. I'm out of time otherwise I would write a bit about the possibility of rights . .the idea of having a right. . the usage of the language of rights.\t|1| I don't mean |2| to be oppositional. .|3| but this sentence stem. . .like so many others. . isn't one |4| I can really answer outside of context.|5| Rights. This is a wobbly construct.|6| I'm sorry.|7| I'm out of time |8| otherwise I would write a bit about the possibility of rights ..the idea of having a right. . the usage of the language of rights.\n",
    "Being with other people\tis most often a pleasure and fascinating experience of seeing a completely different version of Self.\t|1| is most often a pleasure and fascinating experience |2| of seeing a completely different version of Self.\n",
    "The past\tis a construct to give form and structure to the present moment.\t|1| is a construct |2| to give form and structure to the present moment.\n",
    "We could make the world a better place if\tthe mystery was okay to be as a question, that is to say if the question was okay to be a question and the answer could be a question and the answers and questions could be held together because they need each other and we realize a little faster that they won't end and they are growing together and rest in that.\t|1| the mystery was okay |2| to be as a question, |3| that is to say |4| if the question was okay |5| to be a question |6| and the answer could be a question |7| and the answers and questions could be held together |8| because they need each other |9| and we realize a little faster |10| that they won't end |11| and they are growing together |12| and rest in that.\n",
    "A good boss\tis a solar being ... one that brings light and eternal love without demanding anything of the others ... an energetic and gravitational field of such calm, peaceful magnitude that all are warmed and captivated by their glow ... brings a new burst life to all those who are in their presence\t|1| is a solar being ...|2| one that brings light and eternal love |3| without demanding anything of the others ..|4| an energetic and gravitational field of such calm, peaceful magnitude |5| that all are warmed and captivated by their glow ... |6| brings a new burst life |7| to all those who are in their presence\n",
    "My conscience bothers me if\tI'm not placing my feet on the path with an open heart, mind and spirit, tuning in to what's moving and showing up fully at the dance.\t|1| I'm not placing |2| my feet on the path with an open heart, mind and spirit,|3| tuning in to |4| what's moving |5| and showing up fully at the dance.\n",
    "When I am criticized\tI can embody my personality and feel a pang contrast to the story I tell myself inside the story we tell ourselves of what we think in the moment to be an absolute before it falls away into a deeper, clearer calm of letting go.\t|1| I can embody |2| my personality |3| and feel a pang contrast |4| to the story I tell myself |5| inside the story we tell ourselves |6| of what we think in the moment |7| to be an absolute |8| before it falls away into a deeper, clearer calm |9| of letting go.\n",
    "The thing I like about myself is\tthat here I sit in the drop of this essential moment, chuckling at this question! :-D\t|1| that here I sit in the drop of this essential moment, |2| chuckling at this question! :-D\n",
    "My main problem is\tintegrating emptiness with everyday life, finding meaning in meaningless given the meaningless in meaning making.\t|1| integrating emptiness with everyday life, |2| finding meaning in meaningless |3| given the meaningless |4| in meaning making.\n",
    "My main problem is\thow my narccissim gets in the way of seeing the truth of the illusion of self.\t|1| how my narccissim |2| gets in the way |3| of seeing the truth of the illusion of self.\n",
    "These days, work\tIs a rainbow of consciousness manifesting through each sparkling emanation called a 'me'.\t|1| Is a rainbow of consciousness |2| manifesting through each sparkling emanation |3| called a 'me'.\n",
    "Being with other people\tIs a mutually mutating meeting of universes\t|1| Is a mutually mutating meeting of universes\n",
    "What I like to do best is\tlay back and live the window that I have becomeas if a home with no walls, the infinite moves through as if there is no solid boundary.the veil is no more and the whole field that is everywhere exists where the inside and outside have no difference.\t|1| lay back |2| and live the window |3| that I have become as if a home with no walls, |4| the infinite moves through |5| as if there is no solid boundary. |6| the veil is no more |7| and the whole field that is everywhere |8| exists where the inside and outside |9| have no difference.\n",
    "Change is\tthe heartbeat of the universe... aliveness calling us forth!\t|1| the heartbeat of the universe...|2| aliveness calling us forth!\n",
    "When I get mad\ti feel adrenaline through my human body and it is fierce and i love it because it moves me and it is no different than the Spirit which moves all.\t|1| i feel adrenaline |2| through my human body |3| and it is fierce |4| and i love it |5| because it moves me |6| and it is no different |7| than the Spirit which moves all.\n",
    "Raising a family\tCaptivates my whole being, just as every window on reality sees it is held in Love beyond knowing.\t|1| Captivates |2| my whole being, |3| just as every window on reality sees |4| it is held in Love beyond knowing.\n",
    "If I were in charge\tIs an expression of the love animating all creation, the simple joy that moves all from rock to life to mind to All. It comes through this glorious One in all its parts and territories, from an inaccessible Heart, within, without.\t|1| Is an expression |2| of the love animating all creation, |3| the simple joy that moves all from rock to life to mind to All. |4| It comes through this glorious One in all its parts and territories, from an inaccessible Heart, within, without.\n",
    "Privacy\tthe human formconsicousness separates from the One even for a moment.\t|1| the human form |2| consicousness separates from the One even for a moment.\"\"\""
   ]
  },
  {
   "cell_type": "markdown",
   "metadata": {},
   "source": [
    "Preprocess data"
   ]
  },
  {
   "cell_type": "code",
   "execution_count": 19,
   "metadata": {},
   "outputs": [
    {
     "name": "stdout",
     "output_type": "stream",
     "text": [
      "49 2\n",
      "Input Array Length 49\n"
     ]
    }
   ],
   "source": [
    "\n",
    "arr = [line.split(\"\\t\")[:-1] for line in tsv.split(\"\\n\")]\n",
    "expected_clause_splitup = [line.split(\"\\t\")[-1] for line in tsv.split(\"\\n\")]\n",
    "\n",
    "print(len(arr), len(arr[0]))\n",
    "ips = []\n",
    "for tok1, tok2 in arr:\n",
    "    original_ip = \"{} {}\".format(tok1, tok2)\n",
    "    ip = html.unescape(original_ip)\n",
    "    ip = rgx.sub(' ', ip)\n",
    "    ip = re.sub('\\s+', ' ', ip)\n",
    "    ips.append(ip)\n",
    "    \n",
    "print(\"Input Array Length\", len(ips))"
   ]
  },
  {
   "cell_type": "markdown",
   "metadata": {},
   "source": [
    "Get subtrees of all verbs. For each child token, get their children recursively:\n",
    "* IF the word is not a pronoun.\n",
    "* If the child is not an [X]comp ( acomp, xcomp, ccomp)"
   ]
  },
  {
   "cell_type": "code",
   "execution_count": 25,
   "metadata": {},
   "outputs": [
    {
     "name": "stdout",
     "output_type": "stream",
     "text": [
      "0 Sometimes I wish that my mom would come home more often. ['Sometimes I wish .', 'that my mom would come home often']\n",
      "1 My family has a cat...I don't have a cat though I have 2 dogs ['My family has a cat ...', \"I do n't have a cat\", 'though I have 2 dogs']\n",
      "2 When I am nervous my hands get shaky ['When I am nervous', 'my hands get shaky']\n",
      "3 At times I worry about my own dreams nightmares I have thousands of them ['At times I worry about my own dreams nightmares', 'I have thousands of them']\n",
      "4 Technology it's crazy and i wish i could keep up [\"Technology it 's crazy and\", 'i wish', 'i could keep up']\n",
      "5 When I get mad I sometimes use big voice then I go somewhere quiet so I can cry by myself. ['When I get mad', 'I sometimes use big voice', 'then I go quiet', 'so I can cry by myself .']\n",
      "6 My main problem is a feeling that I am not entitled ['My main problem is a feeling', 'I am not', 'that am entitled']\n",
      "7 If my mother was a different lady I would not be who I am. ['If my mother was a different lady', 'I would not be .', 'who I am']\n",
      "8 When I get mad it takes a long time to build up but I am slow to forgive. ['When I get mad', 'it takes a long time build but', 'to build up', 'I am slow .', 'to forgive']\n",
      "9 When they avoided me I felt safe knowing that I could receive a warm welcome from my family and friends. ['When they avoided me', 'I felt knowing .', 'safe knowing', 'that I could receive a warm welcome from my family and friends']\n",
      "10 Sometimes I wish that I could be younger and have done things differently. ['Sometimes I wish .', 'that I could be younger and', 'have done things differently']\n",
      "11 When they avoided me I sought to find out 'why ' . Knowing the 'why' can begin Awareness and Healing ['When they avoided me', 'I sought find .', 'to find out', \"why ' can begin Awareness\"]\n",
      "12 Being with other people is both a learning experience and an opportunity to exchange views. ['Being with other people', 'Being is both a learning experience and an opportunity .', 'to exchange views']\n",
      "13 My main problem is only a main problem if I think it is. ['My main problem is only a main problem .', 'if I think', 'it is']\n",
      "14 When people are helpless At times I try to find other ways of doing thing. But sometime I might be disappointed and stop or quit. ['When people are helpless', 'At times I try find .', 'to find other ways of doing', 'doing thing', 'But sometime I might be disappointed .', 'disappointed and', 'stop or']\n",
      "15 My father taught me how to think critically and to love deeply. ['My father taught me think .', 'how to think critically and', 'to love deeply']\n",
      "16 If I can't get what I want I try to work out another way of getting what I want [\"If I ca n't get\", 'what I want', 'I try work', 'to work out another way of getting', 'what I want']\n",
      "17 When they avoided me hmmm... I'm stumped. I have no idea how to respond to this... Although there is a sense of relief... ['When they avoided me hmmm', \"... I 'm stumped .\", 'I have no idea respond ...', 'how to respond to this', 'Although there is a sense of relief ...']\n",
      "18 Loving other people can deepen with familiarity. Even with those who aren't a natural fit the differences between us can add color to the world as well as an opportunity to turn inward to see what is being triggered. Having said that it's difficult for me to open my heart and trust. ['Loving other people', 'Loving can deepen with familiarity .', \"who are n't a natural fit\", 'Even with those the differences between us can add color to the world as well as an opportunity .', 'to turn inward', 'to see', 'what is being triggered', 'Having said .', \"that it 's difficult\", 'for me to open my heart and trust']\n",
      "19 When people are helpless I am inspired to reach out and be of service. ['When people are helpless', 'I am inspired reach .', 'to reach out and', 'be of service']\n",
      "20 Rules are guard rails. It is good and helpful to have them. When you head in the right direction you never get in touch with them no matter how fast or slow you travel. Good rules are not in your way. ['Rules are guard rails .', 'It is good have .', 'to have them', 'When you head in the right direction', 'you never get in touch with them matter .', 'fast you travel', 'Good rules are not in your way .']\n",
      "21 Technology is a great tool nice to have and can bring global humanity closer together in ways never before imagined. But if it were to disappear tomorrow I'm of the generation that would be able to survive. ['Technology is a great tool nice and .', 'to have', 'can bring global humanity together in ways', 'never before imagined', 'if it were disappear', 'to disappear tomorrow', \"I 'm of the generation be .\", 'that would be able', 'to survive']\n",
      "22 A good boss A good boss is critical toward making a workplace environment healthy and successful  ['A good boss A good boss is critical']\n",
      "23 My main problem is getting over decades spent proving myself. ['My main problem is getting over decades .', 'spent proving', 'proving myself']\n",
      "24 I feel sorry for the pain that all humans and all beings on this earth must endure as part of the experience of being here. ['I feel sorry .', 'that all humans and all beings on this earth must endure as part of the experience of being', 'being here']\n",
      "25 If I were in charge i would change that by facilitating change that made everyone in charge ... to the degree of their capabilities in wordly matters but always in charge of their interior and their right to decide for themselves what is real and true for them. ['If I were in charge', 'i would change that by facilitating .', 'facilitating change made ... to the degree of their capabilities in wordly matters but in charge of interior and their right', 'that made everyone in charge', 'to decide for themselves', 'what is real for them']\n",
      "26 At times I worry about big big existential questions and little microscopic ones... sometimes within milliseconds of one another. ['At times I worry about big big existential questions and little microscopic ones ... sometimes within milliseconds of one .']\n",
      "27 Raising a family is a profound gift. I am tending the future. I am tending the life processes. It is a place for love and life and evolution to soar. ['Raising a family', 'Raising is a profound gift .', 'I am tending the future .', 'I am tending the life processes .', 'It is a place for love and life and evolution soar .', 'to soar']\n",
      "28 At times I worry about how differently I see and process things from many of the people I encounter and whether I am wisely acting and interacting. ['At times I worry about see .', 'differently I see and and', 'process things from many', 'I encounter', 'whether I am wisely acting and']\n",
      "29 What I like to do best is be a conduit. There is no I. ['I like do', 'What to do best', 'like is', 'is be a conduit .', 'There is no I.']\n",
      "30 Being with other people can be an isolating or a hugely enriching experience the latter when each others presence liberates emergent thoughts or self expressions bringing forth a collective that is more than the sum of its parts ['Being with other people', 'Being can be an isolating or a hugely enriching experience latter', 'when each others presence liberates emergent thoughts or self expressions', 'bringing forth a collective is', 'that is more']\n",
      "31 A teacher has the right to I don't mean to be oppositional. . but this sentence stem. . .like so many others. . isn't one I can really answer outside of context. Rights. This is a wobbly construct. I'm sorry. I'm out of time otherwise I would write a bit about the possibility of rights . .the idea of having a right. . the usage of the language of rights. ['A teacher has the right . .', \"to I do n't mean be\", 'to be oppositional', \"is n't one\", 'I can really answer outside of context .', 'This is a wobbly construct .', \"I 'm sorry .\", \"I 'm out of time\", 'otherwise I would write a bit about the possibility of rights .', 'having a right']\n",
      "32 Being with other people is most often a pleasure and fascinating experience of seeing a completely different version of Self. ['Being with other people', 'Being is often a pleasure and fascinating experience of seeing .', 'seeing a different version of Self']\n",
      "33 The past is a construct to give form and structure to the present moment. ['The past is a construct give .', 'to give form and structure to the present moment']\n",
      "34 We could make the world a better place if the mystery was okay to be as a question that is to say if the question was okay to be a question and the answer could be a question and the answers and questions could be held together because they need each other and we realize a little faster that they won't end and they are growing together and rest in that. ['We could make .', 'if the mystery was okay', 'to be as a question is', 'that is say', 'to say', 'if the question was okay be and', 'to be a question', 'the answer could be a question and the answers and questions', 'could be held together', 'because they need other and', 'we realize faster and', \"that they wo n't end\", 'they are growing together and', 'rest in that']\n",
      "35 A good boss is a solar being ... one that brings light and eternal love without demanding anything of the others ... an energetic and gravitational field of such calm peaceful magnitude that all are warmed and captivated by their glow ... brings a new burst life to all those who are in their presence ['A good boss is a solar being ...', 'that brings light without demanding', 'demanding anything of the others', 'all are warmed and', 'that captivated by their glow', 'one brings ... an energetic field of such calm peaceful magnitude warmed ... brings a new burst life to those', 'who are in their presence']\n"
     ]
    },
    {
     "name": "stdout",
     "output_type": "stream",
     "text": [
      "36 My conscience bothers me if I'm not placing my feet on the path with an open heart mind and spirit tuning in to what's moving and showing up fully at the dance. ['My conscience bothers me .', \"if I 'm not placing my feet on the path with an open heart mind and spirit\", 'tuning in to moving and', \"what 's moving\", 'showing up fully at the dance']\n",
      "37 When I am criticized I can embody my personality and feel a pang contrast to the story I tell myself inside the story we tell ourselves of what we think in the moment to be an absolute before it falls away into a deeper clearer calm of letting go. ['When I am criticized', 'I can embody my personality and .', 'feel a pang contrast to the story tell', 'I tell myself inside the story tell', 'we tell ourselves of think be', 'what we think in the moment', 'to be absolute', 'before it falls away into a clearer calm of letting', 'letting go']\n",
      "38 The thing I like about myself is that here I sit in the drop of this essential moment chuckling at this question D ['I like about myself', 'The thing like is', 'that here I sit in the drop of this essential moment', 'chuckling at this question D']\n",
      "39 My main problem is integrating emptiness with everyday life finding meaning in meaningless given the meaningless in meaning making. ['My main problem is integrating emptiness with everyday life given .', 'finding meaning in meaningless', 'given the meaningless in meaning making']\n",
      "40 My main problem is how my narccissim gets in the way of seeing the truth of the illusion of self. ['My main problem is .', 'how my narccissim gets in the way of seeing', 'seeing the truth of the illusion of self']\n",
      "41 These days work Is a rainbow of consciousness manifesting through each sparkling emanation called a 'me'. [\"These days work Is a rainbow of consciousness ' .\", 'manifesting through each sparkling emanation', 'called me']\n",
      "42 Being with other people Is a mutually mutating meeting of universes ['Being with other people', 'Being Is a mutating meeting of universes', 'mutually mutating']\n",
      "43 What I like to do best is lay back and live the window that I have becomeas if a home with no walls the infinite moves through as if there is no solid boundary.the veil is no more and the whole field that is everywhere exists where the inside and outside have no difference. ['I like do', 'What to do best', 'like is', 'is lay back and', 'live the window have', 'that I have becomeas', 'as if there is no solid boundary.the veil', 'is more .', 'that is everywhere', 'where inside have no difference']\n",
      "44 Change is the heartbeat of the universe... aliveness calling us forth  ['Change is the heartbeat of the universe ...', 'calling us forth']\n",
      "45 When I get mad i feel adrenaline through my human body and it is fierce and i love it because it moves me and it is no different than the Spirit which moves all. ['When I get mad', 'i feel adrenaline through my human body and', 'it is fierce and .', 'i love it', 'because it moves me and', 'it is different', 'which moves all']\n",
      "46 Raising a family Captivates my whole being just as every window on reality sees it is held in Love beyond knowing. ['Raising a family', 'Raising Captivates whole .', 'just as every window on reality sees', 'it is held in Love beyond knowing']\n",
      "47 If I were in charge Is an expression of the love animating all creation the simple joy that moves all from rock to life to mind to All. It comes through this glorious One in all its parts and territories from an inaccessible Heart within without. ['If I were in charge', 'Is an expression of the love to All .', 'animating all creation the simple joy moves', 'that moves all from rock to life to mind', 'It comes through One from an inaccessible Heart within without .']\n",
      "48 Privacy the human formconsicousness separates from the One even for a moment. ['the human formconsicousness separates from One even for a moment']\n",
      "Html files edited with automated splitups\n"
     ]
    }
   ],
   "source": [
    "COMPOSITE_NOUN_ATTRIBUTES = [\"NOUN\", \"ADP\"]\n",
    "IGNORABLE_NOUN_DEPENDENCIES = [\"acl\"]\n",
    "def get_substrings(doc, word):\n",
    "    op = []\n",
    "    if word.pos_ not in COMPOSITE_NOUN_ATTRIBUTES:\n",
    "        return word.text\n",
    "    \n",
    "    for l in word.lefts:\n",
    "        if l.dep_ not in IGNORABLE_NOUN_DEPENDENCIES:\n",
    "            op.append(get_substrings(doc, l))\n",
    "    op.append(word.text)\n",
    "    for r in word.rights:\n",
    "        if r.dep_ not in IGNORABLE_NOUN_DEPENDENCIES:\n",
    "            op.append(get_substrings(doc, r))\n",
    "    return ' '.join(op)\n",
    "\n",
    "IGNORABLE_VERB_DEPENDENCIES = [\"ccomp\", \"advcl\", \"conj\"]\n",
    "def split_clauses(doc):\n",
    "    op = []\n",
    "    for word in doc:\n",
    "        if word.pos_ == \"VERB\":\n",
    "            clause_arr = []\n",
    "            for l in word.lefts:\n",
    "                if l.dep_ not in IGNORABLE_VERB_DEPENDENCIES:\n",
    "                    clause_arr.append(get_substrings(doc, l))\n",
    "            clause_arr.append(word.text) #TODO: Recurse ??\n",
    "            for r in word.rights:\n",
    "                if r.dep_ not in IGNORABLE_VERB_DEPENDENCIES:\n",
    "                    clause_arr.append(get_substrings(doc, r))\n",
    "            op.append(\" \".join(clause_arr))   \n",
    "    return op\n",
    "\n",
    "def split_text(doc):\n",
    "    op = []\n",
    "    for sent in doc.sents:\n",
    "        tm = split_clauses(sent)\n",
    "        op = op + tm\n",
    "    return op\n",
    "\n",
    "for i in range(len(ips)):\n",
    "    ip = ips[i]\n",
    "    doc = nlp(ip)\n",
    "    clauses = split_text(doc)\n",
    "    \n",
    "    a = displacy.render(doc, style='dep') # Saved in html folder\n",
    "\n",
    "    html_str_arr = [\"<html><body>\"]\n",
    "    html_str_arr.append(\"<div>Input: {}</div>\".format(ips[i]))\n",
    "    html_str_arr.append(\"<div>Expected Output: {}</div>\".format(expected_clause_splitup[i]))\n",
    "    html_str_arr.append(\"<div>Predicted Output: {}</div>\".format(' '.join([\"|{}| {}\".format(j+1, clauses[j]) for j in range(len(clauses))])))\n",
    "    html_str_arr.append(\"<div>{}</div></body></html>\".format(a))\n",
    "    \n",
    "    with open(\"html/file_{}.html\".format(i), \"w\") as f:\n",
    "        f.writelines(html_str_arr)\n",
    "    print(i, ip, clauses)\n",
    "print(\"Html files edited with automated splitups\")"
   ]
  }
 ],
 "metadata": {
  "kernelspec": {
   "display_name": "Python 3",
   "language": "python",
   "name": "python3"
  },
  "language_info": {
   "codemirror_mode": {
    "name": "ipython",
    "version": 3
   },
   "file_extension": ".py",
   "mimetype": "text/x-python",
   "name": "python",
   "nbconvert_exporter": "python",
   "pygments_lexer": "ipython3",
   "version": "3.6.3"
  }
 },
 "nbformat": 4,
 "nbformat_minor": 2
}
