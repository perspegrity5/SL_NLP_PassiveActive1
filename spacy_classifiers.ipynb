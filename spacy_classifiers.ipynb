{
 "cells": [
  {
   "cell_type": "markdown",
   "metadata": {},
   "source": [
    "## Jupyter Notebook space for Passive Active NLP StageLens project"
   ]
  },
  {
   "cell_type": "markdown",
   "metadata": {},
   "source": [
    "General module loading"
   ]
  },
  {
   "cell_type": "code",
   "execution_count": 1,
   "metadata": {},
   "outputs": [
    {
     "name": "stdout",
     "output_type": "stream",
     "text": [
      "Python 3.6.3\n",
      "Collecting https://github.com/explosion/spacy-models/releases/download/en_core_web_lg-2.0.0/en_core_web_lg-2.0.0.tar.gz\n",
      "  Downloading https://github.com/explosion/spacy-models/releases/download/en_core_web_lg-2.0.0/en_core_web_lg-2.0.0.tar.gz (852.3MB)\n",
      "\u001b[K    100% |████████████████████████████████| 852.3MB 9.8MB/s ta 0:00:011  6% |██▏                             | 56.8MB 7.4MB/s eta 0:01:48    7% |██▌                             | 67.7MB 6.3MB/s eta 0:02:06    23% |███████▋                        | 201.4MB 6.8MB/s eta 0:01:36    28% |█████████▏                      | 242.7MB 24.3MB/s eta 0:00:26    32% |██████████▍                     | 275.4MB 9.1MB/s eta 0:01:04    38% |████████████▎                   | 327.6MB 6.2MB/s eta 0:01:25    41% |█████████████▎                  | 354.7MB 10.8MB/s eta 0:00:47    48% |███████████████▌                | 412.6MB 7.8MB/s eta 0:00:57    56% |██████████████████              | 481.0MB 6.1MB/s eta 0:01:02    58% |██████████████████▊             | 499.0MB 7.4MB/s eta 0:00:48    59% |███████████████████             | 505.6MB 7.2MB/s eta 0:00:49    61% |███████████████████▉            | 528.2MB 9.9MB/s eta 0:00:33��         | 608.9MB 7.4MB/s eta 0:00:33    80% |█████████████████████████▋      | 682.5MB 7.3MB/s eta 0:00:24    93% |██████████████████████████████  | 801.0MB 7.3MB/s eta 0:00:08\n",
      "\u001b[?25hInstalling collected packages: en-core-web-lg\n",
      "  Running setup.py install for en-core-web-lg ... \u001b[?25ldone\n",
      "\u001b[?25hSuccessfully installed en-core-web-lg-2.0.0\n",
      "\n",
      "\u001b[93m    Linking successful\u001b[0m\n",
      "    /srv/venv/lib/python3.6/site-packages/en_core_web_lg -->\n",
      "    /srv/venv/lib/python3.6/site-packages/spacy/data/en_core_web_lg\n",
      "\n",
      "    You can now load the model via spacy.load('en_core_web_lg')\n",
      "\n",
      "Downloaded\n"
     ]
    }
   ],
   "source": [
    "!python --version\n",
    "!python -m spacy download en_core_web_lg\n",
    "\n",
    "print(\"Downloaded\")"
   ]
  },
  {
   "cell_type": "code",
   "execution_count": 2,
   "metadata": {},
   "outputs": [
    {
     "name": "stdout",
     "output_type": "stream",
     "text": [
      "Loaded models\n"
     ]
    }
   ],
   "source": [
    "import spacy\n",
    "import html\n",
    "from spacy import displacy\n",
    "import re\n",
    "PATTERN = \"[^a-zA-Z0-9_\\s'\\.]+\"\n",
    "rgx = re.compile(PATTERN, re.IGNORECASE)\n",
    "\n",
    "nlp = spacy.load('en_core_web_lg')\n",
    "print(\"Loaded models\")"
   ]
  },
  {
   "cell_type": "markdown",
   "metadata": {},
   "source": [
    "Preprocessing input text"
   ]
  },
  {
   "cell_type": "code",
   "execution_count": 242,
   "metadata": {},
   "outputs": [],
   "source": [
    "tsv = \"\"\"Sometimes I wish that\tmy mom would come home more often.\t|1| my mom would come home more often.\n",
    "My family\thas a cat...I don't have a cat though I have 2 dogs\t|1| has a cat...|2| I don't have a cat |3| though I have 2 dogs\n",
    "When I am nervous\tmy hands get shaky\t|1| my hands get shaky\n",
    "At times I worry about\tmy own dreams, nightmares I have thousands of them\t|1| my own dreams, nightmares |2| I have thousands of them\n",
    "Technology\tit's crazy and i wish i could keep up\t|1| its crazy and |2| i wish |3| i could keep up\n",
    "When I get mad\tI sometimes use big voice then I go somewhere quiet so I can cry by myself.\t|1| I sometimes use big voice |2| then I go somewhere quiet |3| so I can cry by myself.\n",
    "My main problem is\ta feeling that I am not entitled\t|1| a feeling |2| that I am not entitled\n",
    "If my mother\twas a different lady, I would not be who I am.\t|1| was a different lady, |2| I would not be |3| who I am.\n",
    "When I get mad\tit takes a long time to build up, but I am slow to forgive.\t|1| it takes a long time to build up, |2| but I am slow to forgive.\n",
    "When they avoided me\tI felt safe, knowing that I could receive a warm welcome from my family and friends.\t|1| I felt safe, |2| knowing |3| that I could receive a warm welcome from my family and friends.\n",
    "Sometimes I wish that\tI could be younger and have done things differently.\t|1| I could be younger |2| and have done things differently.\n",
    "When they avoided me\tI sought to find out 'why?' . Knowing the 'why' can begin Awareness and Healing\t|1| I sought to find out 'why?' . |3| Knowing the 'why' |4| can begin Awareness and Healing\n",
    "Being with other people\tis both a learning experience and an opportunity to exchange views.\t|1| is both a learning experience and an opportunity |2| to exchange views.\n",
    "My main problem is\tonly a main problem if I think it is.\t|1| only a main problem |2| if I think |3| it is.\n",
    "When people are helpless\tAt times I try to find other ways of doing thing. But sometime I might be disappointed and stop or quit.\t|1| At times I try |2| to find other ways |3| of doing thing. |4| But sometime I might be disappointed |5| and stop |6| or quit.\n",
    "My father\ttaught me how to think critically and to love deeply.\t|1| taught me |2| how to think critically |3| and to love deeply.\n",
    "If I can\\'t get what I want\tI try to work out another way of getting what I want\t|1| I try |2| to work out another way |3| of getting |4| what I want\n",
    "When they avoided me\thmmm... I\\'m stumped. I have no idea how to respond to this... Although there is a sense of relief...\t|1| hmmm... I'm stumped. |2| I have no idea |3| how to respond to this...|4| Although there is a sense of relief...\n",
    "Loving other people\tcan deepen with familiarity. Even with those who aren't a natural fit the differences between us can add color to the world as well as an opportunity to turn inward to see what is being triggered. Having said that, it's difficult for me to open my heart and trust.\t|1| can deepen with familiarity. |2| Even with those who aren't a natural fit |3| the differences between us can add color to the world |4| as well as an opportunity to turn inward |5| to see |6| what is being triggered. |7| Having said that, |8| it's difficult for me |9| to open |10| my heart |11| and trust.\n",
    "When people are helpless\tI am inspired to reach out and be of service.\t|1| I am inspired |2| to reach out |3| and be of service.\n",
    "Rules\tare guard rails. It is good and helpful to have them. When you head in the right direction you never get in touch with them, no matter how fast or slow you travel. Good rules are not in your way.\t|1| are guard rails. |2| It is good and helpful |3| to have them. |4| When you head in the right direction |5| you never get in touch with them, |6| no matter how fast or slow you travel. |7| Good rules are not in |8| your way.\n",
    "Technology\tis a great tool, nice to have and can bring global humanity closer together in ways never before imagined. But if it were to disappear tomorrow, I'm of the generation that would be able to survive.\t|1| is a great tool, |2| nice to have |3| and can bring global humanity closer together |4| in ways never before imagined. |5| But if it were |6| to disappear tomorrow, |7| I'm of the generation |8| that would be able |9| to survive.\n",
    "A good boss\tA good boss is critical toward making a workplace environment healthy and successful!\t|1| A good boss is critical |2| toward making a workplace environment healthy and successful!\n",
    "My main problem is\tgetting over decades spent proving myself.\t|1| getting over |2| decades spent proving myself.\n",
    "I feel sorry\tfor the pain that all humans and all beings on this earth must endure as part of the experience of being here.\t|1| for the pain |2| that all humans and all beings on this earth must endure |3| as part of the experience of being here.\n",
    "If I were in charge\ti would change that by facilitating change that made everyone in charge ... to the degree of their capabilities in wordly matters, but always in charge of their interior and their right to decide for themselves what is real and true for them.\t|1| i would change that |2| by facilitating change |3| that made everyone in charge ...|4| to the degree of their capabilities in wordly matters,|5| but always in charge |6| of their interior and |7| their right |8| to decide for themselves |9| what is real and true for them.\n",
    "At times I worry about\tbig, big existential questions, and little microscopic ones ... sometimes within milliseconds of one another.\t|1| big, big existential questions, and little microscopic ones...|2| sometimes within milliseconds of one another.\n",
    "Raising a family\tis a profound gift. I am tending the future. I am tending the life processes. It is a place for love and life and evolution to soar.\t|1| is a profound gift. |2| I am tending the future. |3| I am tending the life processes. |4| It is a place for love and life and evolution to soar.\n",
    "At times I worry about\thow differently I see and process things from many of the people I encounter, and whether I am wisely acting and interacting.\t|1| how differently I see |2| and process things |3| from many of the people I encounter, |4| and whether I am wisely acting |5| and interacting.\n",
    "What I like to do best is\tbe a conduit. There is no I.\t|1| be a conduit. |2| There is no I.\n",
    "Being with other people\tcan be an isolating or a hugely enriching experience, the latter when each others presence liberates emergent thoughts or self expressions bringing forth a collective that is more than the sum of its parts\t|1| can be an isolating or a hugely enriching experience, |1| the latter when each others presence liberates emergent thoughts or self expressions |3| bringing forth a collective |4| that is more than the sum of its parts\n",
    "A teacher has the right to\tI don't mean to be oppositional. . but this sentence stem. . .like so many others. . isn't one I can really answer outside of context. Rights. This is a wobbly construct. I'm sorry. I'm out of time otherwise I would write a bit about the possibility of rights . .the idea of having a right. . the usage of the language of rights.\t|1| I don't mean |2| to be oppositional. .|3| but this sentence stem. . .like so many others. . isn't one |4| I can really answer outside of context.|5| Rights. This is a wobbly construct.|6| I'm sorry.|7| I'm out of time |8| otherwise I would write a bit about the possibility of rights ..the idea of having a right. . the usage of the language of rights.\n",
    "Being with other people\tis most often a pleasure and fascinating experience of seeing a completely different version of Self.\t|1| is most often a pleasure and fascinating experience |2| of seeing a completely different version of Self.\n",
    "The past\tis a construct to give form and structure to the present moment.\t|1| is a construct |2| to give form and structure to the present moment.\n",
    "We could make the world a better place if\tthe mystery was okay to be as a question, that is to say if the question was okay to be a question and the answer could be a question and the answers and questions could be held together because they need each other and we realize a little faster that they won't end and they are growing together and rest in that.\t|1| the mystery was okay |2| to be as a question, |3| that is to say |4| if the question was okay |5| to be a question |6| and the answer could be a question |7| and the answers and questions could be held together |8| because they need each other |9| and we realize a little faster |10| that they won't end |11| and they are growing together |12| and rest in that.\n",
    "A good boss\tis a solar being ... one that brings light and eternal love without demanding anything of the others ... an energetic and gravitational field of such calm, peaceful magnitude that all are warmed and captivated by their glow ... brings a new burst life to all those who are in their presence\t|1| is a solar being ...|2| one that brings light and eternal love |3| without demanding anything of the others ..|4| an energetic and gravitational field of such calm, peaceful magnitude |5| that all are warmed and captivated by their glow ... |6| brings a new burst life |7| to all those who are in their presence\n",
    "My conscience bothers me if\tI'm not placing my feet on the path with an open heart, mind and spirit, tuning in to what's moving and showing up fully at the dance.\t|1| I'm not placing |2| my feet on the path with an open heart, mind and spirit,|3| tuning in to |4| what's moving |5| and showing up fully at the dance.\n",
    "When I am criticized\tI can embody my personality and feel a pang contrast to the story I tell myself inside the story we tell ourselves of what we think in the moment to be an absolute before it falls away into a deeper, clearer calm of letting go.\t|1| I can embody |2| my personality |3| and feel a pang contrast |4| to the story I tell myself |5| inside the story we tell ourselves |6| of what we think in the moment |7| to be an absolute |8| before it falls away into a deeper, clearer calm |9| of letting go.\n",
    "The thing I like about myself is\tthat here I sit in the drop of this essential moment, chuckling at this question! :-D\t|1| that here I sit in the drop of this essential moment, |2| chuckling at this question! :-D\n",
    "My main problem is\tintegrating emptiness with everyday life, finding meaning in meaningless given the meaningless in meaning making.\t|1| integrating emptiness with everyday life, |2| finding meaning in meaningless |3| given the meaningless |4| in meaning making.\n",
    "My main problem is\thow my narccissim gets in the way of seeing the truth of the illusion of self.\t|1| how my narccissim |2| gets in the way |3| of seeing the truth of the illusion of self.\n",
    "These days, work\tIs a rainbow of consciousness manifesting through each sparkling emanation called a 'me'.\t|1| Is a rainbow of consciousness |2| manifesting through each sparkling emanation |3| called a 'me'.\n",
    "Being with other people\tIs a mutually mutating meeting of universes\t|1| Is a mutually mutating meeting of universes\n",
    "What I like to do best is\tlay back and live the window that I have become as if a home with no walls, the infinite moves through as if there is no solid boundary.the veil is no more and the whole field that is everywhere exists where the inside and outside have no difference.\t|1| lay back |2| and live the window |3| that I have become as if a home with no walls, |4| the infinite moves through |5| as if there is no solid boundary. |6| the veil is no more |7| and the whole field that is everywhere |8| exists where the inside and outside |9| have no difference.\n",
    "Change is\tthe heartbeat of the universe... aliveness calling us forth!\t|1| the heartbeat of the universe...|2| aliveness calling us forth!\n",
    "When I get mad\ti feel adrenaline through my human body and it is fierce and i love it because it moves me and it is no different than the Spirit which moves all.\t|1| i feel adrenaline through my human body |2| and it is fierce |3| and i love it |4| because it moves me |5| and it is no different |6| than the Spirit which moves all.\n",
    "Raising a family\tCaptivates my whole being, just as every window on reality sees it is held in Love beyond knowing.\t|1| Captivates my whole being, |2| just as every window on reality sees |3| it is held in Love beyond knowing.\n",
    "If I were in charge\tIs an expression of the love animating all creation, the simple joy that moves all from rock to life to mind to All. It comes through this glorious One in all its parts and territories, from an inaccessible Heart, within, without.\t|1| Is an expression |2| of the love animating all creation, |3| the simple joy that moves all from rock to life to mind to All. |4| It comes through this glorious One in all its parts and territories, from an inaccessible Heart, within, without.\n",
    "Privacy\tthe human form consicousness separates from the One even for a moment.\t|1| the human form |2| consicousness separates from the One even for a moment.\"\"\""
   ]
  },
  {
   "cell_type": "markdown",
   "metadata": {},
   "source": [
    "Preprocess data\n",
    "\n",
    "#### Metrics while retaining word case and punctuations . and ' gives:\n",
    "\n",
    "* Subset removed Accuracy in terms of clause count only =  0.4489795918367347\n",
    "\n",
    "#### Metrics when case is lowered and punctuations . and  ,':\n",
    "* Subset removed Accuracy in terms of clause count only =  0.46938775510204084\n",
    "\n",
    "#### Metrics when case is lowered and no punctuations gives:\n",
    "* Subset removed Accuracy in terms of clause count only =  0.3877551020408163\n",
    "\n",
    "#### Metrics when case is retained and punctuations are removed gives:\n",
    "* Subset removed Accuracy in terms of clause count only =  0.3877551020408163\n",
    "\n",
    "#### Lower case and fullstop only\n",
    "* Subset removed Accuracy in terms of clause count only =  0.4489795918367347\n",
    "\n"
   ]
  },
  {
   "cell_type": "code",
   "execution_count": 243,
   "metadata": {},
   "outputs": [
    {
     "name": "stdout",
     "output_type": "stream",
     "text": [
      "[['my mom would come home more often.'], ['has a cat...', \"I don't have a cat\", 'though I have 2 dogs'], ['my hands get shaky'], ['my own dreams, nightmares', 'I have thousands of them'], ['its crazy and', 'i wish', 'i could keep up']]\n",
      "49 2\n",
      "Input Array Length 49\n"
     ]
    }
   ],
   "source": [
    "PATTERN = \"[^a-zA-Z0-9_\\s\\.',]+\"\n",
    "rgx = re.compile(PATTERN, re.IGNORECASE)\n",
    "\n",
    "arr = [line.split(\"\\t\")[:-1] for line in tsv.split(\"\\n\")]\n",
    "arr = [[y.lower() for y in x ] for x in arr] \n",
    "expected_clause_splitup = [line.split(\"\\t\")[-1] for line in tsv.split(\"\\n\")]\n",
    "expected_clause_splitup = [re.sub(\"\\|\\d+\\|\", \",,,\", x).split(\",,,\")[1:] for x in expected_clause_splitup]\n",
    "expected_clause_splitup = [[rgx.sub(' ', word) for word in clause] for clause in expected_clause_splitup]\n",
    "expected_clause_splitup = [[re.sub(\"\\s+\", ' ', word.strip()) for word in clause] for clause in expected_clause_splitup]\n",
    "\n",
    "print(expected_clause_splitup[:5])\n",
    "\n",
    "print(len(arr), len(arr[0]))\n",
    "ips = []\n",
    "for tok1, tok2 in arr:\n",
    "    original_ip = \"{} {}\".format(tok1, tok2)\n",
    "    ip = html.unescape(original_ip)\n",
    "    ip = rgx.sub(' ', ip)\n",
    "    ip = re.sub('\\s+', ' ', ip)\n",
    "    ips.append(ip)\n",
    "    \n",
    "print(\"Input Array Length\", len(ips))"
   ]
  },
  {
   "cell_type": "code",
   "execution_count": 244,
   "metadata": {},
   "outputs": [],
   "source": [
    "from random import shuffle\n",
    "def print_sample_list(arr):\n",
    "    indices = [i for i in range(len(arr))]\n",
    "    shuffle(indices)\n",
    "    for x in indices[:min(5, len(arr))]:\n",
    "        print(x, arr[x])"
   ]
  },
  {
   "cell_type": "markdown",
   "metadata": {},
   "source": [
    "* Get the split clauses based on custom rules\n",
    "* For each clause, check if the tokens are in the prompt to remove them appropriately\n",
    "* The output of this module should be an array of array of strings for voice identification and scoring.\n",
    "\n",
    "To build the clauses, get the subtrees of all verbs. For each child token, get their children recursively:\n",
    "* IF the word is not a pronoun.\n",
    "* If the child is not an [X]comp ( acomp, xcomp, ccomp)"
   ]
  },
  {
   "cell_type": "code",
   "execution_count": 245,
   "metadata": {
    "scrolled": false
   },
   "outputs": [
    {
     "name": "stdout",
     "output_type": "stream",
     "text": [
      "First Pass Tokenization complete. Sample outputs are: \n",
      "12 [('being', [being, with, other, people]), ('is', [being, is, both, a, learning, experience, and, an, opportunity]), ('exchange', [to, exchange, views])]\n",
      "27 [('raising', [raising, a, family]), ('is', [raising, is, a, profound, gift]), ('tending', [i, am, tending, the, future]), ('tending', [i, am, tending, the, life, processes]), ('is', [it, is, a, place, for, love, and, life, and, evolution, to, soar]), ('soar', [for, love, and, life, and, evolution, to, soar])]\n",
      "13 [('is', [my, main, problem, is, only, a, main, problem]), ('think', [if, i, think]), ('is', [it, is])]\n",
      "18 [('loving', [loving]), ('deepen', [loving, other, people, can, deepen, with, familiarity]), ('are', [who, are, n't, a, natural, fit, the, differences, between, us]), ('add', [even, with, those, can, add, color, to, the, world, as, well, as, an, opportunity]), ('turn', [to, turn, inward]), ('see', [to, see]), ('being', [being]), ('triggered', [what, is, being, triggered]), ('having', [having]), ('said', [having, said, that]), (\"'s\", [it, 's, difficult]), ('open', [for, me, to, open, my, heart, and, trust])]\n",
      "5 [('get', [when, i, get, mad]), ('use', [i, sometimes, use, big, voice]), ('go', [then, i, go, somewhere, quiet]), ('cry', [so, i, can, cry, by, myself])]\n"
     ]
    }
   ],
   "source": [
    "COMPOSITE_NOUN_ATTRIBUTES_ARR = [\"NOUN\", \"ADP\", \"ADJ\", \"PROPN\",  \"ADV\", \"CCONJ\", \"PART\"] #, \"VERB\"]\n",
    "COMPOSITE_NOUN_ATTRIBUTES_DICT = {\"VERB\" : [\"xcomp\", \"relcl\"]} # [\"aux\", \"prt\", \"xcomp\", \"ccomp\", \"conj\"]} #\"\"relcl\",\" for VERB\n",
    "IGNORABLE_NOUN_DEPENDENCIES = [\"acl\"] #, \"advcl\"] #, \"relcl\"]\n",
    "\n",
    "def is_required_noun_child(word):\n",
    "    if word.pos_ in COMPOSITE_NOUN_ATTRIBUTES_ARR:\n",
    "        return True\n",
    "    if word.pos_ in COMPOSITE_NOUN_ATTRIBUTES_DICT.keys():\n",
    "        if word.dep_ in COMPOSITE_NOUN_ATTRIBUTES_DICT[word.pos_]:\n",
    "            return True\n",
    "    return False\n",
    "\n",
    "def flatten_list(l):\n",
    "    flat_list = [item for sublist in l for item in sublist]\n",
    "    #print(flat_list)\n",
    "    return flat_list\n",
    "\n",
    "def get_substrings(doc, word):\n",
    "    op = []\n",
    "    if word.pos_ == \"PUNCT\": \n",
    "        return []\n",
    "    if not is_required_noun_child(word): \n",
    "        return [word]\n",
    "    \n",
    "    for l in word.lefts:\n",
    "        if l.dep_ not in IGNORABLE_NOUN_DEPENDENCIES:\n",
    "            op.append(get_substrings(doc, l))\n",
    "    op.append([word])\n",
    "    for r in word.rights:\n",
    "        if r.dep_ not in IGNORABLE_NOUN_DEPENDENCIES:\n",
    "            op.append(get_substrings(doc, r))\n",
    "    op = flatten_list(op)\n",
    "    return op\n",
    "\n",
    "IGNORABLE_VERB_DEPENDENCIES_ARR = [ \"advcl\"] #, \"conj\"]\n",
    "IGNORABLE_VERB_DEPENDENCIES_DICT = {\"ccomp\" : [\"VERB\"], \"conj\" : [\"VERB\"]}\n",
    "AUX_VERBS = [\"am\", \"was\", \"are\", \"is\", \"could\", \"would\", \"do\", \"has\", \"have\", \"can\", \"will\", \"did\", \"ca\", \"wo\"]\n",
    "\n",
    "def is_ignorable_verb_child(word):\n",
    "    if word.dep_ in IGNORABLE_VERB_DEPENDENCIES_ARR:\n",
    "        return True\n",
    "    if word.dep_ in IGNORABLE_VERB_DEPENDENCIES_DICT.keys():\n",
    "        if word.pos_ in IGNORABLE_VERB_DEPENDENCIES_DICT[word.dep_]: \n",
    "            return True\n",
    "    return False\n",
    "\n",
    "def split_clauses(doc):\n",
    "    op = []\n",
    "    for word in doc:\n",
    "        if word.pos_ == \"VERB\":\n",
    "            clause_arr = []\n",
    "            for l in word.lefts:\n",
    "                if not is_ignorable_verb_child(l):\n",
    "                    clause_arr.append(get_substrings(doc, l))\n",
    "\n",
    "            clause_arr.append([word]) #.text) #TODO: Recurse ??\n",
    "            \n",
    "            for r in word.rights:\n",
    "                if not is_ignorable_verb_child(r):\n",
    "                    clause_arr.append(get_substrings(doc, r))\n",
    "                    \n",
    "            if len([ignore for ignore in word.children]) == 0 and word.text in AUX_VERBS: #len(clause_arr) == 1 and clause_arr[0].pos_ == \"VERB\": #clause_arr[0] in AUX_VERBS:\n",
    "                continue\n",
    "            clause_arr = flatten_list(clause_arr)\n",
    "            op.append((word.text, clause_arr))#op.append(\" \".join(clause_arr))\n",
    "    return op\n",
    "\n",
    "def split_text(doc):\n",
    "    op = []\n",
    "    for sent in doc.sents:\n",
    "        tm = split_clauses(sent)\n",
    "        op = op + tm\n",
    "    return op\n",
    "\n",
    "tokenizer_output = []\n",
    "for i in range(len(ips)):\n",
    "    ip = ips[i]\n",
    "    doc = nlp(ip)\n",
    "    #print(ip, expected_clause_splitup[i])\n",
    "    clauses = split_text(doc)\n",
    "    tokenizer_output.append(clauses)\n",
    "print(\"First Pass Tokenization complete. Sample outputs are: \")\n",
    "print_sample_list(tokenizer_output)"
   ]
  },
  {
   "cell_type": "markdown",
   "metadata": {},
   "source": [
    "Input: 3D array of spacy tokens per clause per input string\n",
    "Output: 2D Array of clauses per input string"
   ]
  },
  {
   "cell_type": "code",
   "execution_count": 246,
   "metadata": {},
   "outputs": [
    {
     "name": "stdout",
     "output_type": "stream",
     "text": [
      "Text extracted with prompt tokens removed. Sample outputs:\n",
      "28 ['see and', 'i see and', 'how differently process things from many of the people', 'i encounter', 'whether i am wisely acting and', 'interacting']\n",
      "22 ['a good boss is critical toward making', 'making a workplace environment healthy and successful']\n",
      "35 ['is a solar being', 'that brings light and eternal love without demanding', 'demanding anything of the others', 'that all are warmed and', 'captivated by their glow', 'one that brings light and eternal love without demanding an energetic and gravitational field of such calm peaceful magnitude that all are warmed and captivated brings a new burst life to those', 'who are in their presence']\n",
      "19 ['i am inspired to reach out and be', 'to reach out and', 'be of service']\n",
      "44 ['aliveness the heartbeat of the universe', 'calling us forth']\n"
     ]
    }
   ],
   "source": [
    "tokenized_sentences = []\n",
    "for i in range(len(tokenizer_output)):\n",
    "    sent = tokenizer_output[i]\n",
    "    prompt_doc = nlp(arr[i][0])\n",
    "    ignore_indices = [x.i for x in prompt_doc]\n",
    "    new_clauses = []\n",
    "    for main_word, clauses in sent:\n",
    "        op = ' '.join([x.text for x in clauses if x.i not in ignore_indices]).strip()\n",
    "        if op != '':\n",
    "            new_clauses.append(op)\n",
    "    tokenized_sentences.append(new_clauses)\n",
    "\n",
    "print(\"Text extracted with prompt tokens removed. Sample outputs:\")\n",
    "print_sample_list(tokenized_sentences)"
   ]
  },
  {
   "cell_type": "markdown",
   "metadata": {},
   "source": [
    "Clauses cleanup:\n",
    "\n",
    "1. Remove clauses which are subsets of another. (This step is not required in larger corpora)\n",
    "2. Replace tokens that are spacy relevant (do n't with don't and it 's with it's)\n"
   ]
  },
  {
   "cell_type": "code",
   "execution_count": 241,
   "metadata": {},
   "outputs": [
    {
     "name": "stdout",
     "output_type": "stream",
     "text": [
      "First pass Accuracy in terms of clause count only =  0.5714285714285714\n",
      "Spacy tokens replaced Accuracy in terms of clause count only =  0.5714285714285714\n",
      "Prompt removed Accuracy in terms of clause count only =  0.5714285714285714\n",
      "Subset removed Accuracy in terms of clause count only =  0.5714285714285714\n",
      "######################################################################\n",
      "11 4 4 3\n",
      "['I sought', \"to find out 'why ' .\", \"Knowing the 'why'\", 'can begin Awareness and Healing']\n",
      "['i sought to find out why', 'to find out why', 'knowing the', 'why can begin awareness and healing']\n",
      "['i sought to find out why', 'knowing the', 'why can begin awareness and healing']\n",
      "######################################################################\n",
      "15 3 3 2\n",
      "['taught me', 'how to think critically', 'and to love deeply.']\n",
      "['taught me how to think critically and love', 'how to think critically and', 'to love deeply']\n",
      "['taught me how to think critically and love', 'to love deeply']\n",
      "######################################################################\n",
      "16 4 4 2\n",
      "['I try', 'to work out another way', 'of getting', 'what I want']\n",
      "['i try to work out another way of getting', 'to work out another way of getting', 'getting', 'what i want']\n",
      "['i try to work out another way of getting', 'what i want']\n",
      "######################################################################\n",
      "18 11 11 9\n",
      "['can deepen with familiarity.', \"Even with those who aren't a natural fit\", 'the differences between us can add color to the world', 'as well as an opportunity to turn inward', 'to see', 'what is being triggered.', 'Having said that,', \"it's difficult for me\", 'to open', 'my heart', 'and trust.']\n",
      "['can deepen with familiarity', \"who aren't a natural fit the differences between us\", 'even with those can add color to the world as well as an opportunity', 'to turn inward', 'to see', 'being', 'what is being triggered', 'having', 'having said that', \"it's difficult\", 'for me to open my heart and trust']\n",
      "['can deepen with familiarity', \"who aren't a natural fit the differences between us\", 'even with those can add color to the world as well as an opportunity', 'to turn inward', 'to see', 'what is being triggered', 'having said that', \"it's difficult\", 'for me to open my heart and trust']\n",
      "######################################################################\n",
      "19 3 3 2\n",
      "['I am inspired', 'to reach out', 'and be of service.']\n",
      "['i am inspired to reach out and be', 'to reach out and', 'be of service']\n",
      "['i am inspired to reach out and be', 'be of service']\n",
      "######################################################################\n",
      "20 8 8 5\n",
      "['are guard rails.', 'It is good and helpful', 'to have them.', 'When you head in the right direction', 'you never get in touch with them,', 'no matter how fast or slow you travel.', 'Good rules are not in', 'your way.']\n",
      "['are guard rails', 'it is good and helpful to have them', 'to have them', 'when you head in the right direction you never get in touch with them no matter travel', 'you never get in touch with them', 'slow', 'how fast or slow you travel', 'good rules are not in your way']\n",
      "['are guard rails', 'it is good and helpful to have them', 'when you head in the right direction you never get in touch with them no matter travel', 'how fast or slow you travel', 'good rules are not in your way']\n",
      "######################################################################\n",
      "21 9 9 5\n",
      "['is a great tool,', 'nice to have', 'and can bring global humanity closer together', 'in ways never before imagined.', 'But if it were', 'to disappear tomorrow,', \"I'm of the generation\", 'that would be able', 'to survive.']\n",
      "['is a great tool nice to have and bring', 'to have and', 'can bring global humanity closer together in ways', 'never before imagined', 'if it were to disappear tomorrow', 'to disappear tomorrow', \"but i'm of the generation that would be able to survive\", 'that would be able to survive', 'to survive']\n",
      "['is a great tool nice to have and bring', 'can bring global humanity closer together in ways', 'never before imagined', 'if it were to disappear tomorrow', \"but i'm of the generation that would be able to survive\"]\n",
      "######################################################################\n",
      "24 3 4 2\n",
      "['for the pain', 'that all humans and all beings on this earth must endure', 'as part of the experience of being here.']\n",
      "['for the pain that all humans and all beings on this earth must endure as part of the experience of being', 'must', 'that all humans and all beings on this earth must endure as part of the experience of being', 'being here']\n",
      "['for the pain that all humans and all beings on this earth must endure as part of the experience of being', 'being here']\n",
      "######################################################################\n",
      "25 9 5 4\n",
      "['i would change that', 'by facilitating change', 'that made everyone in charge ...', 'to the degree of their capabilities in wordly matters', ', but always in charge', 'of their interior and', 'their right', 'to decide for themselves', 'what is real and true for them.']\n",
      "['i would change that by facilitating but always in charge of their interior and their right', 'facilitating change that made everyone in charge to the degree of their capabilities in wordly matters', 'that made everyone in charge to the degree of their capabilities in wordly matters', 'to decide for themselves', 'what is real and true for them']\n",
      "['i would change that by facilitating but always in charge of their interior and their right', 'facilitating change that made everyone in charge to the degree of their capabilities in wordly matters', 'to decide for themselves', 'what is real and true for them']\n",
      "######################################################################\n",
      "26 2 1 1\n",
      "['big, big existential questions, and little microscopic ones...', 'sometimes within milliseconds of one another.']\n",
      "['big big existential questions and little microscopic ones sometimes within milliseconds of one']\n",
      "['big big existential questions and little microscopic ones sometimes within milliseconds of one']\n",
      "######################################################################\n",
      "33 2 2 1\n",
      "['is a construct', 'to give form and structure to the present moment.']\n",
      "['is a construct to give form and structure to the present moment', 'to give form and structure to the present moment']\n",
      "['is a construct to give form and structure to the present moment']\n",
      "######################################################################\n",
      "34 12 14 10\n",
      "['the mystery was okay', 'to be as a question,', 'that is to say', 'if the question was okay', 'to be a question', 'and the answer could be a question', 'and the answers and questions could be held together', 'because they need each other', 'and we realize a little faster', \"that they won't end\", 'and they are growing together', 'and rest in that.']\n",
      "['the mystery was okay to be as a question', 'to be as a question', 'that is to say was', 'to say', 'if the question was okay to be a question and', 'to be a question', 'the answer could be a question and', 'be', 'the answers and questions could be held together', 'because they need each other and', 'we realize a little faster', \"that they won't end\", 'and they are growing together and', 'rest in that']\n",
      "['the mystery was okay to be as a question', 'that is to say was', 'if the question was okay to be a question and', 'the answer could be a question and', 'the answers and questions could be held together', 'because they need each other and', 'we realize a little faster', \"that they won't end\", 'and they are growing together and', 'rest in that']\n",
      "######################################################################\n",
      "35 7 7 5\n",
      "['is a solar being ...', 'one that brings light and eternal love', 'without demanding anything of the others ..', 'an energetic and gravitational field of such calm, peaceful magnitude', 'that all are warmed and captivated by their glow ...', 'brings a new burst life', 'to all those who are in their presence']\n",
      "['is a solar being', 'that brings light and eternal love without demanding', 'demanding anything of the others', 'that all are warmed and', 'captivated by their glow', 'one that brings light and eternal love without demanding an energetic and gravitational field of such calm peaceful magnitude that all are warmed and captivated brings a new burst life to those', 'who are in their presence']\n",
      "['is a solar being', 'demanding anything of the others', 'captivated by their glow', 'one that brings light and eternal love without demanding an energetic and gravitational field of such calm peaceful magnitude that all are warmed and captivated brings a new burst life to those', 'who are in their presence']\n",
      "######################################################################\n",
      "36 5 6 4\n",
      "[\"I'm not placing\", 'my feet on the path with an open heart, mind and spirit', ', tuning in to', \"what's moving\", 'and showing up fully at the dance.']\n",
      "[\"'m\", \"i'm not placing my feet on the path with an open heart mind and spirit\", 'tuning in to moving', \"'s\", \"what's moving and\", 'showing up fully at the dance']\n",
      "[\"i'm not placing my feet on the path with an open heart mind and spirit\", 'tuning in to moving', \"what's moving and\", 'showing up fully at the dance']\n",
      "######################################################################\n",
      "37 9 9 5\n",
      "['I can embody', 'my personality', 'and feel a pang contrast', 'to the story I tell myself', 'inside the story we tell ourselves', 'of what we think in the moment', 'to be an absolute', 'before it falls away into a deeper, clearer calm', 'of letting go.']\n",
      "['i can embody my personality and', 'feel a pang contrast to the story i tell myself inside the story we tell ourselves of think', 'i tell myself inside the story we tell ourselves of think', 'we tell ourselves of think', 'what we think in the moment to be an absolute falls', 'to be an absolute', 'before it falls away into a deeper clearer calm of letting', 'letting', 'go']\n",
      "['i can embody my personality and', 'feel a pang contrast to the story i tell myself inside the story we tell ourselves of think', 'what we think in the moment to be an absolute falls', 'before it falls away into a deeper clearer calm of letting', 'go']\n",
      "######################################################################\n",
      "40 3 2 2\n",
      "['how my narccissim', 'gets in the way', 'of seeing the truth of the illusion of self.']\n",
      "['how my narccissim gets in the way of seeing', 'seeing the truth of the illusion of self']\n",
      "['how my narccissim gets in the way of seeing', 'seeing the truth of the illusion of self']\n",
      "######################################################################\n",
      "42 1 2 2\n",
      "['Is a mutually mutating meeting of universes']\n",
      "['is a mutating meeting of universes', 'mutually mutating']\n",
      "['is a mutating meeting of universes', 'mutually mutating']\n",
      "######################################################################\n",
      "43 9 8 6\n",
      "['lay back', 'and live the window', 'that I have become as if a home with no walls,', 'the infinite moves through', 'as if there is no solid boundary.', 'the veil is no more', 'and the whole field that is everywhere', 'exists where the inside and outside', 'have no difference.']\n",
      "['lay back and', 'live the window i have become that as if a home with no walls', 'i have become that as if a home with no walls', 'as if there is no solid', 'boundary.the veil is no more and', 'that is everywhere', 'the whole field that is everywhere exists', 'where the inside and outside have no difference']\n",
      "['lay back and', 'live the window i have become that as if a home with no walls', 'as if there is no solid', 'boundary.the veil is no more and', 'the whole field that is everywhere exists', 'where the inside and outside have no difference']\n",
      "######################################################################\n",
      "45 6 6 5\n",
      "['i feel adrenaline through my human body', 'and it is fierce', 'and i love it', 'because it moves me', 'and it is no different', 'than the Spirit which moves all.']\n",
      "['i feel adrenaline through my human body and', 'it is fierce', 'and i love it', 'because it moves me', 'and it is no different than the spirit which moves all', 'which moves all']\n",
      "['i feel adrenaline through my human body and', 'it is fierce', 'and i love it', 'because it moves me', 'and it is no different than the spirit which moves all']\n",
      "######################################################################\n",
      "47 4 5 3\n",
      "['Is an expression', 'of the love animating all creation,', 'the simple joy that moves all from rock to life to mind to All.', 'It comes through this glorious One in all its parts and territories, from an inaccessible Heart, within, without.']\n",
      "['is an expression of the love the simple joy that moves all from rock to life to mind to all', 'animating all creation', 'that moves all from rock to life to mind to all', 'mind', 'it comes through this glorious one in all its parts and territories from an inaccessible heart within without']\n",
      "['is an expression of the love the simple joy that moves all from rock to life to mind to all', 'animating all creation', 'it comes through this glorious one in all its parts and territories from an inaccessible heart within without']\n",
      "######################################################################\n"
     ]
    },
    {
     "name": "stdout",
     "output_type": "stream",
     "text": [
      "48 2 1 1\n",
      "['the human form', 'consicousness separates from the One even for a moment.']\n",
      "['the human form consicousness separates from the one even for a moment']\n",
      "['the human form consicousness separates from the one even for a moment']\n"
     ]
    }
   ],
   "source": [
    "print(\"First pass Accuracy in terms of clause count only = \", sum([len(expected_clause_splitup[i])==len(tokenized_sentences[i]) for i in range(len(tokenized_sentences))])/len(tokenized_sentences))\n",
    "tokenized_sentences = [[ clause.replace(\" n't\", \"n't\").replace(\" 'm\", \"'m\").replace(\" 's\", \"'s\") for clause in clauses] for clauses in tokenized_sentences]\n",
    "print(\"Spacy tokens replaced Accuracy in terms of clause count only = \", sum([len(expected_clause_splitup[i])==len(tokenized_sentences[i]) for i in range(len(tokenized_sentences))])/len(tokenized_sentences))\n",
    "\n",
    "\n",
    "cleaned_sentences = [ [clause.strip() for clause in sent if clause.strip() != ''] for sent in tokenized_sentences]\n",
    "print(\"Prompt removed Accuracy in terms of clause count only = \", sum([len(expected_clause_splitup[i])==len(cleaned_sentences[i]) for i in range(len(cleaned_sentences))])/len(cleaned_sentences))\n",
    "\n",
    "final_sentences = []\n",
    "for i in range(len(cleaned_sentences)):\n",
    "    old_clauses = cleaned_sentences[i]\n",
    "    is_subset = [True in [c != clause and c.find(clause)>=0 for c in old_clauses] for clause in old_clauses]\n",
    "    new_clauses = [ old_clauses[j] for j in range(len(old_clauses)) if not is_subset[j]]\n",
    "    final_sentences.append(new_clauses)\n",
    "    \n",
    "print(\"Subset removed Accuracy in terms of clause count only = \", sum([len(expected_clause_splitup[i])==len(final_sentences[i]) for i in range(len(final_sentences))])/len(final_sentences))\n",
    "\n",
    "for i in range(len(ips)):\n",
    "    if len(expected_clause_splitup[i]) != len(final_sentences[i]):\n",
    "        print(\"######################################################################\")\n",
    "        print(i, len(expected_clause_splitup[i]), len(cleaned_sentences[i]), len(final_sentences[i]))\n",
    "        print(expected_clause_splitup[i])\n",
    "        print(cleaned_sentences[i])\n",
    "        print(final_sentences[i])\n"
   ]
  },
  {
   "cell_type": "markdown",
   "metadata": {},
   "source": [
    "Parse Tree with predictions as a HTML file"
   ]
  },
  {
   "cell_type": "code",
   "execution_count": 113,
   "metadata": {},
   "outputs": [
    {
     "name": "stdout",
     "output_type": "stream",
     "text": [
      "HTML files written into html folder\n"
     ]
    }
   ],
   "source": [
    "for i in range(len(ips)):\n",
    "    ip = ips[i]\n",
    "    doc = nlp(ip)\n",
    "    a = displacy.render(doc, style='dep') # Saved in html folder\n",
    "\n",
    "    html_str_arr = [\"<html><body>\"]\n",
    "    html_str_arr.append(\"<div>Input: {}</div>\".format(ips[i]))\n",
    "    html_str_arr.append(\"<div>Expected Output: {}</div>\".format(expected_clause_splitup[i]))\n",
    "    html_str_arr.append(\"<div>Predicted Output: {}</div>\".format(final_sentences[i]))\n",
    "    html_str_arr.append(\"<div>{}</div></body></html>\".format(a))\n",
    "    \n",
    "    with open(\"html/file_{}.html\".format(i), \"w\") as f:\n",
    "        f.writelines(html_str_arr)\n",
    "print(\"HTML files written into html folder\")\n"
   ]
  },
  {
   "cell_type": "code",
   "execution_count": null,
   "metadata": {},
   "outputs": [],
   "source": []
  }
 ],
 "metadata": {
  "kernelspec": {
   "display_name": "Python 3",
   "language": "python",
   "name": "python3"
  },
  "language_info": {
   "codemirror_mode": {
    "name": "ipython",
    "version": 3
   },
   "file_extension": ".py",
   "mimetype": "text/x-python",
   "name": "python",
   "nbconvert_exporter": "python",
   "pygments_lexer": "ipython3",
   "version": "3.6.3"
  }
 },
 "nbformat": 4,
 "nbformat_minor": 2
}
