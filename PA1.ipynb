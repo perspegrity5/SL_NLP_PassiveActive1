{
 "cells": [
  {
   "cell_type": "markdown",
   "metadata": {},
   "source": [
    "## Jupyter Notebook space for Passive Active NLP StageLens project"
   ]
  },
  {
   "cell_type": "markdown",
   "metadata": {},
   "source": [
    "General module loading"
   ]
  },
  {
   "cell_type": "code",
   "execution_count": 1,
   "metadata": {},
   "outputs": [
    {
     "name": "stdout",
     "output_type": "stream",
     "text": [
      "Python 3.6.3\n",
      "Collecting https://github.com/explosion/spacy-models/releases/download/en_core_web_sm-2.0.0/en_core_web_sm-2.0.0.tar.gz\n",
      "  Downloading https://github.com/explosion/spacy-models/releases/download/en_core_web_sm-2.0.0/en_core_web_sm-2.0.0.tar.gz (37.4MB)\n",
      "\u001b[K    100% |████████████████████████████████| 37.4MB 78.7MB/s ta 0:00:01    80% |█████████████████████████▋      | 29.9MB 63.3MB/s eta 0:00:01\n",
      "\u001b[?25h  Requirement already satisfied (use --upgrade to upgrade): en-core-web-sm==2.0.0 from https://github.com/explosion/spacy-models/releases/download/en_core_web_sm-2.0.0/en_core_web_sm-2.0.0.tar.gz in /srv/venv/lib/python3.6/site-packages\n",
      "\n",
      "\u001b[93m    Linking successful\u001b[0m\n",
      "    /srv/venv/lib/python3.6/site-packages/en_core_web_sm -->\n",
      "    /srv/venv/lib/python3.6/site-packages/spacy/data/en\n",
      "\n",
      "    You can now load the model via spacy.load('en')\n",
      "\n",
      "Loaded models\n"
     ]
    }
   ],
   "source": [
    "!python --version\n",
    "!python -m spacy download en\n",
    "import spacy\n",
    "import html\n",
    "from spacy import displacy\n",
    "\n",
    "nlp = spacy.load('en')\n",
    "print(\"Loaded models\")"
   ]
  },
  {
   "cell_type": "markdown",
   "metadata": {},
   "source": [
    "The actual code part"
   ]
  },
  {
   "cell_type": "code",
   "execution_count": 4,
   "metadata": {},
   "outputs": [
    {
     "name": "stdout",
     "output_type": "stream",
     "text": [
      "When people are helpless they need support to move forward. Helpless does not need to be a permanent descriptor, most people are able to be supported to re-direct into a position which plays to their strengths.\n",
      "When []\n",
      "people []\n",
      "are [(When, 'advmod'), (people, 'nsubj'), (helpless, 'acomp')]\n",
      "helpless []\n",
      "they []\n",
      "need [(are, 'advcl'), (they, 'nsubj'), (support, 'dobj'), (., 'punct')]\n",
      "support [(move, 'acl')]\n",
      "to []\n",
      "move [(to, 'aux'), (forward, 'advmod')]\n",
      "forward []\n",
      ". []\n",
      "Helpless []\n",
      "does []\n",
      "not []\n",
      "need [(Helpless, 'nsubj'), (does, 'aux'), (not, 'neg'), (be, 'xcomp')]\n",
      "to []\n",
      "be [(to, 'aux'), (descriptor, 'attr')]\n",
      "a []\n",
      "permanent []\n",
      "descriptor [(a, 'det'), (permanent, 'amod')]\n",
      ", []\n",
      "most []\n",
      "people [(most, 'amod')]\n",
      "are [(need, 'ccomp'), (,, 'punct'), (people, 'nsubj'), (able, 'acomp'), (into, 'prep'), (., 'punct')]\n",
      "able [(supported, 'xcomp')]\n",
      "to []\n",
      "be []\n",
      "supported [(to, 'aux'), (be, 'auxpass')]\n",
      "to []\n",
      "re [(to, 'aux')]\n",
      "- [(re, 'nmod')]\n",
      "direct [(-, 'punct')]\n",
      "into [(direct, 'punct'), (position, 'pobj')]\n",
      "a []\n",
      "position [(a, 'det'), (plays, 'relcl')]\n",
      "which []\n",
      "plays [(which, 'nsubj'), (to, 'prep')]\n",
      "to [(strengths, 'pobj')]\n",
      "their []\n",
      "strengths [(their, 'poss')]\n",
      ". []\n",
      "advmod\n",
      "nsubj\n",
      "advcl\n",
      "acomp\n",
      "nsubj\n",
      "ROOT\n",
      "dobj\n",
      "aux\n",
      "acl\n",
      "advmod\n",
      "punct\n",
      "nsubj\n",
      "aux\n",
      "neg\n",
      "ccomp\n",
      "aux\n",
      "xcomp\n",
      "det\n",
      "amod\n",
      "attr\n",
      "punct\n",
      "amod\n",
      "nsubj\n",
      "ROOT\n",
      "acomp\n",
      "aux\n",
      "auxpass\n",
      "xcomp\n",
      "aux\n",
      "nmod\n",
      "punct\n",
      "punct\n",
      "prep\n",
      "det\n",
      "pobj\n",
      "nsubj\n",
      "relcl\n",
      "prep\n",
      "poss\n",
      "pobj\n",
      "punct\n"
     ]
    }
   ],
   "source": [
    "tok1 = \"When people are helpless\"\n",
    "tok2 = \"they need support to move forward. Helpless does not need to be a permanent descriptor, most people are able to be supported to re-direct into a position which plays to their strengths.\"\n",
    "\n",
    "original_ip = \"{} {}\".format(tok1, tok2)\n",
    "ip = html.unescape(original_ip)\n",
    "doc = nlp(ip)\n",
    "print(ip) \n",
    "#displacy.render(doc, style='dep') # Saved in test.html\n",
    "for token in doc:\n",
    "    print(token.text, [(child, child.dep_) for child in token.children])\n",
    "    \n",
    "for token in doc:\n",
    "    print(token.dep_)\n",
    " "
   ]
  },
  {
   "cell_type": "code",
   "execution_count": null,
   "metadata": {},
   "outputs": [],
   "source": []
  }
 ],
 "metadata": {
  "kernelspec": {
   "display_name": "Python 3",
   "language": "python",
   "name": "python3"
  },
  "language_info": {
   "codemirror_mode": {
    "name": "ipython",
    "version": 3
   },
   "file_extension": ".py",
   "mimetype": "text/x-python",
   "name": "python",
   "nbconvert_exporter": "python",
   "pygments_lexer": "ipython3",
   "version": "3.6.3"
  }
 },
 "nbformat": 4,
 "nbformat_minor": 2
}
