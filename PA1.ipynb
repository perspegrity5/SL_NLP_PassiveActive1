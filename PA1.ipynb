{
 "cells": [
  {
   "cell_type": "markdown",
   "metadata": {},
   "source": [
    "## Jupyter Notebook space for Passive Active NLP StageLens project"
   ]
  },
  {
   "cell_type": "markdown",
   "metadata": {},
   "source": [
    "General module loading"
   ]
  },
  {
   "cell_type": "code",
   "execution_count": 1,
   "metadata": {},
   "outputs": [
    {
     "name": "stdout",
     "output_type": "stream",
     "text": [
      "Python 3.6.3\n",
      "Collecting https://github.com/explosion/spacy-models/releases/download/en_core_web_sm-2.0.0/en_core_web_sm-2.0.0.tar.gz\n",
      "  Downloading https://github.com/explosion/spacy-models/releases/download/en_core_web_sm-2.0.0/en_core_web_sm-2.0.0.tar.gz (37.4MB)\n",
      "\u001b[K    100% |████████████████████████████████| 37.4MB 83.7MB/s ta 0:00:01\n",
      "\u001b[?25h  Requirement already satisfied (use --upgrade to upgrade): en-core-web-sm==2.0.0 from https://github.com/explosion/spacy-models/releases/download/en_core_web_sm-2.0.0/en_core_web_sm-2.0.0.tar.gz in /srv/venv/lib/python3.6/site-packages\n",
      "\n",
      "\u001b[93m    Linking successful\u001b[0m\n",
      "    /srv/venv/lib/python3.6/site-packages/en_core_web_sm -->\n",
      "    /srv/venv/lib/python3.6/site-packages/spacy/data/en\n",
      "\n",
      "    You can now load the model via spacy.load('en')\n",
      "\n",
      "Loaded models\n"
     ]
    }
   ],
   "source": [
    "!python --version\n",
    "!python -m spacy download en\n",
    "import spacy\n",
    "import html\n",
    "nlp = spacy.load('en')\n",
    "print(\"Loaded models\")"
   ]
  },
  {
   "cell_type": "raw",
   "metadata": {},
   "source": [
    "The actual code part"
   ]
  },
  {
   "cell_type": "code",
   "execution_count": 3,
   "metadata": {},
   "outputs": [
    {
     "name": "stdout",
     "output_type": "stream",
     "text": [
      "Privacy is about avoiding the fear of exposing ourselves (or others) to the judgment of others - it's probably not a 'need', but a 'want' that has become an expectation in western society.\n",
      "\n",
      "TAGGING\n",
      "Privacy privacy NOUN NN nsubj Xxxxx True False\n",
      "is be VERB VBZ ccomp xx True True\n",
      "about about ADP IN prep xxxx True True\n",
      "avoiding avoid VERB VBG pcomp xxxx True False\n",
      "the the DET DT det xxx True True\n",
      "fear fear NOUN NN dobj xxxx True False\n",
      "of of ADP IN prep xx True True\n",
      "exposing expose VERB VBG pcomp xxxx True False\n",
      "ourselves -PRON- PRON PRP dobj xxxx True True\n",
      "( ( PUNCT -LRB- punct ( False False\n",
      "or or CCONJ CC cc xx True True\n",
      "others other NOUN NNS conj xxxx True True\n",
      ") ) PUNCT -RRB- punct ) False False\n",
      "to to ADP IN prep xx True True\n",
      "the the DET DT det xxx True True\n",
      "judgment judgment NOUN NN pobj xxxx True False\n",
      "of of ADP IN prep xx True True\n",
      "others other NOUN NNS pobj xxxx True True\n",
      "- - PUNCT : punct - False False\n",
      "it -PRON- PRON PRP nsubj xx True True\n",
      "'s be VERB VBZ ROOT 'x False False\n",
      "probably probably ADV RB advmod xxxx True False\n",
      "not not ADV RB neg xxx True True\n",
      "a a DET DT det x True True\n",
      "' ' PUNCT `` punct ' False False\n",
      "need need NOUN NN attr xxxx True False\n",
      "' ' PUNCT '' punct ' False False\n",
      ", , PUNCT , punct , False False\n",
      "but but CCONJ CC cc xxx True True\n",
      "a a DET DT det x True True\n",
      "' ' PUNCT `` punct ' False False\n",
      "want want NOUN NN conj xxxx True False\n",
      "' ' PUNCT '' punct ' False False\n",
      "that that ADJ WDT nsubj xxxx True True\n",
      "has have VERB VBZ aux xxx True True\n",
      "become become VERB VBN ccomp xxxx True True\n",
      "an an DET DT det xx True True\n",
      "expectation expectation NOUN NN attr xxxx True False\n",
      "in in ADP IN prep xx True True\n",
      "western western ADJ JJ amod xxxx True False\n",
      "society society NOUN NN pobj xxxx True False\n",
      ". . PUNCT . punct . False False\n",
      "\n",
      " \n",
      " SPACE   \n",
      " False False\n",
      "DEPENDENCY PARSED :  <generator object at 0x7f5b08d45730>\n",
      "Privacy Privacy nsubj is\n",
      "the fear fear dobj avoiding\n",
      "ourselves ourselves dobj exposing\n",
      "others others conj ourselves\n",
      "the judgment judgment pobj to\n",
      "others others pobj of\n",
      "it it nsubj 's\n",
      "a 'need need attr 's\n",
      "a 'want want conj 's\n",
      "an expectation expectation attr become\n",
      "western society society pobj in\n"
     ]
    }
   ],
   "source": [
    "tok1 = \"Privacy\"\n",
    "tok2 = \"\"\"is about avoiding the fear of exposing ourselves &#x28;or others&#x29; to the judgment of others - it&#039;s probably not a &#039;need&#039;, but a &#039;want&#039; that has become an expectation in western society.\n",
    "\"\"\"\n",
    "\n",
    "#TODO: Make this a function call\n",
    "original_ip = \"{} {}\".format(tok1, tok2)\n",
    "ip = html.unescape(original_ip)\n",
    "doc = nlp(ip)\n",
    "print(ip)\n",
    "print(\"TAGGING\")\n",
    "for token in doc:\n",
    "    print(token.text, token.lemma_, token.pos_, token.tag_, token.dep_, token.shape_, token.is_alpha, token.is_stop)\n",
    "\n",
    "print(\"DEPENDENCY PARSED : \", doc.noun_chunks)\n",
    "for chunk in doc.noun_chunks:\n",
    "    print(chunk.text, chunk.root.text, chunk.root.dep_,\n",
    "          chunk.root.head.text)"
   ]
  },
  {
   "cell_type": "code",
   "execution_count": null,
   "metadata": {},
   "outputs": [],
   "source": []
  }
 ],
 "metadata": {
  "kernelspec": {
   "display_name": "Python 3",
   "language": "python",
   "name": "python3"
  },
  "language_info": {
   "codemirror_mode": {
    "name": "ipython",
    "version": 3
   },
   "file_extension": ".py",
   "mimetype": "text/x-python",
   "name": "python",
   "nbconvert_exporter": "python",
   "pygments_lexer": "ipython3",
   "version": "3.6.3"
  }
 },
 "nbformat": 4,
 "nbformat_minor": 2
}
